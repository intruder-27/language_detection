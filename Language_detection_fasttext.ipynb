{
  "nbformat": 4,
  "nbformat_minor": 0,
  "metadata": {
    "colab": {
      "name": "Language_detection_fasttext.ipynb",
      "provenance": [],
      "collapsed_sections": []
    },
    "kernelspec": {
      "name": "python3",
      "display_name": "Python 3"
    },
    "language_info": {
      "name": "python"
    },
    "accelerator": "GPU"
  },
  "cells": [
    {
      "cell_type": "markdown",
      "metadata": {
        "id": "Di0fURngdoA6"
      },
      "source": [
        "**Language Detection using FastText**\n",
        "\n",
        "**Reference :** https://fasttext.cc/docs/en/supervised-tutorial.html"
      ]
    },
    {
      "cell_type": "markdown",
      "metadata": {
        "id": "QQPy4gLKc5dL"
      },
      "source": [
        "**Drive Link (data, prediction and models) :** https://drive.google.com/drive/folders/1UWe1KH3Hyppc1U52b13k_v7P1uRwt16e?usp=sharing"
      ]
    },
    {
      "cell_type": "markdown",
      "metadata": {
        "id": "RUaaEmpUZNS4"
      },
      "source": [
        "**Dataset :** http://www.statmt.org/europarl/\n",
        "\n",
        "I cleaned the data, generated a csv file from each language corpus and then merged these csv files to create a single (multi-label) dataset, so that we can use it in the supervised training."
      ]
    },
    {
      "cell_type": "code",
      "metadata": {
        "colab": {
          "base_uri": "https://localhost:8080/"
        },
        "id": "c8QtY_yRd_F7",
        "outputId": "cf45ad4f-198f-41a5-ebc6-cac92b61a23c"
      },
      "source": [
        "%cd drive/MyDrive"
      ],
      "execution_count": null,
      "outputs": [
        {
          "output_type": "stream",
          "name": "stdout",
          "text": [
            "/content/drive/MyDrive\n"
          ]
        }
      ]
    },
    {
      "cell_type": "code",
      "metadata": {
        "colab": {
          "base_uri": "https://localhost:8080/"
        },
        "id": "RcZ_13dvRcHs",
        "outputId": "08518ab8-0f38-4c1b-b199-7b76134f6546"
      },
      "source": [
        "!mkdir lang_detect\n",
        "%cd lang_detect"
      ],
      "execution_count": null,
      "outputs": [
        {
          "output_type": "stream",
          "name": "stdout",
          "text": [
            "/content/drive/MyDrive/lang_detect\n"
          ]
        }
      ]
    },
    {
      "cell_type": "code",
      "metadata": {
        "id": "jy6z5DZkWUXi"
      },
      "source": [
        "import pandas as pd\n",
        "import numpy as np"
      ],
      "execution_count": null,
      "outputs": []
    },
    {
      "cell_type": "code",
      "metadata": {
        "colab": {
          "base_uri": "https://localhost:8080/",
          "height": 204
        },
        "id": "iSCGd92NhW3l",
        "outputId": "f8852377-59e4-43aa-b3da-efc57f152834"
      },
      "source": [
        "df = pd.read_csv('data/europarl.csv',names = ['lang','text'])\n",
        "df.head()"
      ],
      "execution_count": null,
      "outputs": [
        {
          "output_type": "execute_result",
          "data": {
            "text/html": [
              "<div>\n",
              "<style scoped>\n",
              "    .dataframe tbody tr th:only-of-type {\n",
              "        vertical-align: middle;\n",
              "    }\n",
              "\n",
              "    .dataframe tbody tr th {\n",
              "        vertical-align: top;\n",
              "    }\n",
              "\n",
              "    .dataframe thead th {\n",
              "        text-align: right;\n",
              "    }\n",
              "</style>\n",
              "<table border=\"1\" class=\"dataframe\">\n",
              "  <thead>\n",
              "    <tr style=\"text-align: right;\">\n",
              "      <th></th>\n",
              "      <th>lang</th>\n",
              "      <th>text</th>\n",
              "    </tr>\n",
              "  </thead>\n",
              "  <tbody>\n",
              "    <tr>\n",
              "      <th>0</th>\n",
              "      <td>bg</td>\n",
              "      <td>Състав на Парламента: вж. протоколи</td>\n",
              "    </tr>\n",
              "    <tr>\n",
              "      <th>1</th>\n",
              "      <td>bg</td>\n",
              "      <td>Одобряване на протокола от предишното заседани...</td>\n",
              "    </tr>\n",
              "    <tr>\n",
              "      <th>2</th>\n",
              "      <td>bg</td>\n",
              "      <td>Състав на Парламента: вж. протоколи</td>\n",
              "    </tr>\n",
              "    <tr>\n",
              "      <th>3</th>\n",
              "      <td>bg</td>\n",
              "      <td>Проверка на пълномощията: вж. протоколи</td>\n",
              "    </tr>\n",
              "    <tr>\n",
              "      <th>4</th>\n",
              "      <td>bg</td>\n",
              "      <td>Внасяне на документи: вж. протоколи</td>\n",
              "    </tr>\n",
              "  </tbody>\n",
              "</table>\n",
              "</div>"
            ],
            "text/plain": [
              "  lang                                               text\n",
              "0   bg                Състав на Парламента: вж. протоколи\n",
              "1   bg  Одобряване на протокола от предишното заседани...\n",
              "2   bg                Състав на Парламента: вж. протоколи\n",
              "3   bg            Проверка на пълномощията: вж. протоколи\n",
              "4   bg                Внасяне на документи: вж. протоколи"
            ]
          },
          "metadata": {},
          "execution_count": 65
        }
      ]
    },
    {
      "cell_type": "markdown",
      "metadata": {
        "id": "ciurWju6iVqX"
      },
      "source": [
        "**Dataset Info**"
      ]
    },
    {
      "cell_type": "code",
      "metadata": {
        "colab": {
          "base_uri": "https://localhost:8080/"
        },
        "id": "psZieJDSiUt4",
        "outputId": "487bd61d-aa18-46fa-be26-0fc6a93f5a1f"
      },
      "source": [
        "print(\"Languages in the dataset : \\n\", df['lang'].unique())\n",
        "print(\"\\n\")\n",
        "print(\"Number of unique lnguages in the dataset : \" , len(df['lang'].unique()) )"
      ],
      "execution_count": null,
      "outputs": [
        {
          "output_type": "stream",
          "name": "stdout",
          "text": [
            "Languages in the dataset : \n",
            " ['da' 'lt' 'en' 'hu' 'it' 'es' 'el' 'lv' 'sv' 'cs' 'pt' 'sl' 'bg' 'sk'\n",
            " 'ro' 'pl' 'de' 'fi' 'et' 'nl' 'fr']\n",
            "\n",
            "\n",
            "Number of unique lnguages in the dataset :  21\n"
          ]
        }
      ]
    },
    {
      "cell_type": "markdown",
      "metadata": {
        "id": "SSBuAOmMhzJH"
      },
      "source": [
        "**Shuffle the rows**"
      ]
    },
    {
      "cell_type": "code",
      "metadata": {
        "id": "ZfSccVGlhyVU"
      },
      "source": [
        "df = df.reindex(np.random.permutation(df.index)).reset_index(drop=True)"
      ],
      "execution_count": null,
      "outputs": []
    },
    {
      "cell_type": "code",
      "metadata": {
        "colab": {
          "base_uri": "https://localhost:8080/",
          "height": 204
        },
        "id": "oxvLTSc1h7ek",
        "outputId": "39989b72-4114-49ed-ef19-903d77dd7c8c"
      },
      "source": [
        "df.head()"
      ],
      "execution_count": null,
      "outputs": [
        {
          "output_type": "execute_result",
          "data": {
            "text/html": [
              "<div>\n",
              "<style scoped>\n",
              "    .dataframe tbody tr th:only-of-type {\n",
              "        vertical-align: middle;\n",
              "    }\n",
              "\n",
              "    .dataframe tbody tr th {\n",
              "        vertical-align: top;\n",
              "    }\n",
              "\n",
              "    .dataframe thead th {\n",
              "        text-align: right;\n",
              "    }\n",
              "</style>\n",
              "<table border=\"1\" class=\"dataframe\">\n",
              "  <thead>\n",
              "    <tr style=\"text-align: right;\">\n",
              "      <th></th>\n",
              "      <th>lang</th>\n",
              "      <th>text</th>\n",
              "    </tr>\n",
              "  </thead>\n",
              "  <tbody>\n",
              "    <tr>\n",
              "      <th>0</th>\n",
              "      <td>da</td>\n",
              "      <td>men indtil nu har portugal haft seks finansier...</td>\n",
              "    </tr>\n",
              "    <tr>\n",
              "      <th>1</th>\n",
              "      <td>lt</td>\n",
              "      <td>gerb. pirmininke, apie tai taip pat yra kalbam...</td>\n",
              "    </tr>\n",
              "    <tr>\n",
              "      <th>2</th>\n",
              "      <td>en</td>\n",
              "      <td>secondly, on religion and identity, there is a...</td>\n",
              "    </tr>\n",
              "    <tr>\n",
              "      <th>3</th>\n",
              "      <td>da</td>\n",
              "      <td>en fremtrædende afrikansk leder kom med en meg...</td>\n",
              "    </tr>\n",
              "    <tr>\n",
              "      <th>4</th>\n",
              "      <td>hu</td>\n",
              "      <td>nem vagyok a domináns piaci helyzetben lévő re...</td>\n",
              "    </tr>\n",
              "  </tbody>\n",
              "</table>\n",
              "</div>"
            ],
            "text/plain": [
              "  lang                                               text\n",
              "0   da  men indtil nu har portugal haft seks finansier...\n",
              "1   lt  gerb. pirmininke, apie tai taip pat yra kalbam...\n",
              "2   en  secondly, on religion and identity, there is a...\n",
              "3   da  en fremtrædende afrikansk leder kom med en meg...\n",
              "4   hu  nem vagyok a domináns piaci helyzetben lévő re..."
            ]
          },
          "metadata": {},
          "execution_count": 22
        }
      ]
    },
    {
      "cell_type": "markdown",
      "metadata": {
        "id": "zB_mhQjijVcp"
      },
      "source": [
        "**FastText Classification**\n"
      ]
    },
    {
      "cell_type": "markdown",
      "metadata": {
        "id": "6xhS0yAE_eR3"
      },
      "source": [
        "Normalization and Label Formatting"
      ]
    },
    {
      "cell_type": "code",
      "metadata": {
        "id": "Pc4Hf9jOjUh0"
      },
      "source": [
        "def normalize_text(row): \n",
        "    label = \"__label__\" + str(row['lang'])\n",
        "    text = str(row['text'])\n",
        "    return ' '.join(( label + ' , ' + text ).split())\n",
        "\n",
        "df['normalized'] = df.apply( lambda row: normalize_text(row), axis=1 )"
      ],
      "execution_count": null,
      "outputs": []
    },
    {
      "cell_type": "code",
      "metadata": {
        "colab": {
          "base_uri": "https://localhost:8080/",
          "height": 204
        },
        "id": "cr7RwV7jloGj",
        "outputId": "cf0b17d7-a57c-48e5-e1b6-ba65dc8c9d25"
      },
      "source": [
        "df.head()"
      ],
      "execution_count": null,
      "outputs": [
        {
          "output_type": "execute_result",
          "data": {
            "text/html": [
              "<div>\n",
              "<style scoped>\n",
              "    .dataframe tbody tr th:only-of-type {\n",
              "        vertical-align: middle;\n",
              "    }\n",
              "\n",
              "    .dataframe tbody tr th {\n",
              "        vertical-align: top;\n",
              "    }\n",
              "\n",
              "    .dataframe thead th {\n",
              "        text-align: right;\n",
              "    }\n",
              "</style>\n",
              "<table border=\"1\" class=\"dataframe\">\n",
              "  <thead>\n",
              "    <tr style=\"text-align: right;\">\n",
              "      <th></th>\n",
              "      <th>lang</th>\n",
              "      <th>text</th>\n",
              "      <th>normalized</th>\n",
              "    </tr>\n",
              "  </thead>\n",
              "  <tbody>\n",
              "    <tr>\n",
              "      <th>0</th>\n",
              "      <td>da</td>\n",
              "      <td>for det første værdien af stærke myndighedsorg...</td>\n",
              "      <td>__label__da , for det første værdien af stærke...</td>\n",
              "    </tr>\n",
              "    <tr>\n",
              "      <th>1</th>\n",
              "      <td>nl</td>\n",
              "      <td>aan de orde is de mondelinge vraag (b5-0491/20...</td>\n",
              "      <td>__label__nl , aan de orde is de mondelinge vra...</td>\n",
              "    </tr>\n",
              "    <tr>\n",
              "      <th>2</th>\n",
              "      <td>hu</td>\n",
              "      <td>(fr) elnök úr, három ügyet szeretnék megemlíte...</td>\n",
              "      <td>__label__hu , (fr) elnök úr, három ügyet szere...</td>\n",
              "    </tr>\n",
              "    <tr>\n",
              "      <th>3</th>\n",
              "      <td>bg</td>\n",
              "      <td>Относно: Микрокредити</td>\n",
              "      <td>__label__bg , Относно: Микрокредити</td>\n",
              "    </tr>\n",
              "    <tr>\n",
              "      <th>4</th>\n",
              "      <td>pl</td>\n",
              "      <td>zważywszy, że energia jądrowa nie jest energią...</td>\n",
              "      <td>__label__pl , zważywszy, że energia jądrowa ni...</td>\n",
              "    </tr>\n",
              "  </tbody>\n",
              "</table>\n",
              "</div>"
            ],
            "text/plain": [
              "  lang  ...                                         normalized\n",
              "0   da  ...  __label__da , for det første værdien af stærke...\n",
              "1   nl  ...  __label__nl , aan de orde is de mondelinge vra...\n",
              "2   hu  ...  __label__hu , (fr) elnök úr, három ügyet szere...\n",
              "3   bg  ...                __label__bg , Относно: Микрокредити\n",
              "4   pl  ...  __label__pl , zważywszy, że energia jądrowa ni...\n",
              "\n",
              "[5 rows x 3 columns]"
            ]
          },
          "metadata": {},
          "execution_count": 69
        }
      ]
    },
    {
      "cell_type": "code",
      "metadata": {
        "id": "YR3lgcXimGTB"
      },
      "source": [
        "from sklearn.model_selection import train_test_split\n",
        "train,test = train_test_split(df , test_size = 0.25 , random_state = 1 )"
      ],
      "execution_count": null,
      "outputs": []
    },
    {
      "cell_type": "code",
      "metadata": {
        "colab": {
          "base_uri": "https://localhost:8080/"
        },
        "id": "hoxVnZVtoDFB",
        "outputId": "4720cc1b-b577-4fa3-d178-06eb64e05516"
      },
      "source": [
        "train.info"
      ],
      "execution_count": null,
      "outputs": [
        {
          "output_type": "execute_result",
          "data": {
            "text/plain": [
              "<bound method DataFrame.info of        lang  ...                                         normalized\n",
              "354030   es  ...  __label__es , es muy importante que las autori...\n",
              "643945   da  ...  __label__da , vi mener ikke, at der er retsgru...\n",
              "85908    ro  ...  __label__ro , după cum au menţionat câţiva din...\n",
              "227782   it  ...  __label__it , sono quindi soddisfatto che si a...\n",
              "169251   lv  ...  __label__lv , es jau esmu runājis ar lielāko d...\n",
              "...     ...  ...                                                ...\n",
              "491263   sk  ...            __label__sk , - správa: pervenche berčs\n",
              "791624   nl  ...  __label__nl , het tweede principe is dat de ve...\n",
              "470924   sk  ...  __label__sk , zloženie parlamentu: pozri zápis...\n",
              "491755   en  ...     __label__en , that concludes the joint debate.\n",
              "128037   da  ...  __label__da , hr. formand, kære kolleger, det ...\n",
              "\n",
              "[624228 rows x 3 columns]>"
            ]
          },
          "metadata": {},
          "execution_count": 71
        }
      ]
    },
    {
      "cell_type": "code",
      "metadata": {
        "colab": {
          "base_uri": "https://localhost:8080/"
        },
        "id": "tZIbmP8GoRn0",
        "outputId": "205bce7a-3b24-4c51-e9c2-4a6d05f7c93f"
      },
      "source": [
        "test.info"
      ],
      "execution_count": null,
      "outputs": [
        {
          "output_type": "execute_result",
          "data": {
            "text/plain": [
              "<bound method DataFrame.info of        lang  ...                                         normalized\n",
              "183899   lv  ...  __label__lv , tajā pat laikā es lūdzu eiropas ...\n",
              "713947   el  ...  __label__el , Σε καμία περίπτωση δεν μπορούμε ...\n",
              "261445   sv  ...  __label__sv , herr talman, föredraganden har y...\n",
              "149882   pt  ...  __label__pt , em relação à primeira proposta, ...\n",
              "176906   es  ...  __label__es , por último, el cuarto pilar: el ...\n",
              "...     ...  ...                                                ...\n",
              "156441   es  ...  __label__es , en cuanto a si la enmienda es o ...\n",
              "649789   lt  ...  __label__lt , aš suprantu, kad atsakant į bend...\n",
              "325587   da  ...  __label__da , hr. formand, eu's medlemsstaters...\n",
              "730582   hu  ...  __label__hu , iparunk a világ legnagyobb autóg...\n",
              "358002   de  ...  __label__de , deshalb fordern wir die aussetzu...\n",
              "\n",
              "[208077 rows x 3 columns]>"
            ]
          },
          "metadata": {},
          "execution_count": 72
        }
      ]
    },
    {
      "cell_type": "code",
      "metadata": {
        "id": "prnauxAz28km"
      },
      "source": [
        "train = train['normalized']\n",
        "test = test['normalized']"
      ],
      "execution_count": null,
      "outputs": []
    },
    {
      "cell_type": "code",
      "metadata": {
        "id": "JkBJGwvimaV1"
      },
      "source": [
        "np.savetxt('data/europarl.train', train.values, fmt=\"%s\")\n",
        "np.savetxt('data/europarl.eval', test.values, fmt=\"%s\")"
      ],
      "execution_count": null,
      "outputs": []
    },
    {
      "cell_type": "markdown",
      "metadata": {
        "id": "kq-TsDrOyiYH"
      },
      "source": [
        "Preprocessing for FastText"
      ]
    },
    {
      "cell_type": "code",
      "metadata": {
        "id": "gYpTXYksynYz"
      },
      "source": [
        "!cat data/europarl.train | sed -e \"s/\\([.\\!?,'/()]\\)/ \\1 /g\" | tr \"[:upper:]\" \"[:lower:]\" > data/europarl.pp.train"
      ],
      "execution_count": null,
      "outputs": []
    },
    {
      "cell_type": "code",
      "metadata": {
        "id": "FAAjXqPQy0rX"
      },
      "source": [
        "!cat data/europarl.eval | sed -e \"s/\\([.\\!?,'/()]\\)/ \\1 /g\" | tr \"[:upper:]\" \"[:lower:]\" > data/europarl.pp.eval\n"
      ],
      "execution_count": null,
      "outputs": []
    },
    {
      "cell_type": "markdown",
      "metadata": {
        "id": "v5BZZ5GbqZvt"
      },
      "source": [
        "Training FastText Classifier"
      ]
    },
    {
      "cell_type": "code",
      "metadata": {
        "colab": {
          "base_uri": "https://localhost:8080/"
        },
        "id": "kZeo3LQcomds",
        "outputId": "dc67f48c-b37f-478d-f7a2-6da259dc6158"
      },
      "source": [
        "!git clone https://github.com/facebookresearch/fastText.git"
      ],
      "execution_count": null,
      "outputs": [
        {
          "output_type": "stream",
          "name": "stdout",
          "text": [
            "Cloning into 'fastText'...\n",
            "remote: Enumerating objects: 3854, done.\u001b[K\n",
            "remote: Total 3854 (delta 0), reused 0 (delta 0), pack-reused 3854\u001b[K\n",
            "Receiving objects: 100% (3854/3854), 8.22 MiB | 11.11 MiB/s, done.\n",
            "Resolving deltas: 100% (2417/2417), done.\n",
            "Checking out files: 100% (526/526), done.\n"
          ]
        }
      ]
    },
    {
      "cell_type": "code",
      "metadata": {
        "colab": {
          "base_uri": "https://localhost:8080/"
        },
        "id": "ZY7Q8P3bqfx4",
        "outputId": "1d9496ce-7e51-45a5-c522-5a1930116f3b"
      },
      "source": [
        "%cd fastText/\n",
        "!make"
      ],
      "execution_count": null,
      "outputs": [
        {
          "output_type": "stream",
          "name": "stdout",
          "text": [
            "/content/drive/My Drive/lang_detect/fastText\n",
            "c++ -pthread -std=c++11 -march=native -O3 -funroll-loops -DNDEBUG -c src/args.cc\n",
            "c++ -pthread -std=c++11 -march=native -O3 -funroll-loops -DNDEBUG -c src/autotune.cc\n",
            "c++ -pthread -std=c++11 -march=native -O3 -funroll-loops -DNDEBUG -c src/matrix.cc\n",
            "c++ -pthread -std=c++11 -march=native -O3 -funroll-loops -DNDEBUG -c src/dictionary.cc\n",
            "c++ -pthread -std=c++11 -march=native -O3 -funroll-loops -DNDEBUG -c src/loss.cc\n",
            "c++ -pthread -std=c++11 -march=native -O3 -funroll-loops -DNDEBUG -c src/productquantizer.cc\n",
            "c++ -pthread -std=c++11 -march=native -O3 -funroll-loops -DNDEBUG -c src/densematrix.cc\n",
            "c++ -pthread -std=c++11 -march=native -O3 -funroll-loops -DNDEBUG -c src/quantmatrix.cc\n",
            "c++ -pthread -std=c++11 -march=native -O3 -funroll-loops -DNDEBUG -c src/vector.cc\n",
            "c++ -pthread -std=c++11 -march=native -O3 -funroll-loops -DNDEBUG -c src/model.cc\n",
            "c++ -pthread -std=c++11 -march=native -O3 -funroll-loops -DNDEBUG -c src/utils.cc\n",
            "c++ -pthread -std=c++11 -march=native -O3 -funroll-loops -DNDEBUG -c src/meter.cc\n",
            "c++ -pthread -std=c++11 -march=native -O3 -funroll-loops -DNDEBUG -c src/fasttext.cc\n",
            "c++ -pthread -std=c++11 -march=native -O3 -funroll-loops -DNDEBUG args.o autotune.o matrix.o dictionary.o loss.o productquantizer.o densematrix.o quantmatrix.o vector.o model.o utils.o meter.o fasttext.o src/main.cc -o fasttext\n"
          ]
        }
      ]
    },
    {
      "cell_type": "code",
      "metadata": {
        "colab": {
          "base_uri": "https://localhost:8080/"
        },
        "id": "OJjQgYLrsC_K",
        "outputId": "b05c753e-ed89-4d46-f738-ff623b2eb4f8"
      },
      "source": [
        "%cd .."
      ],
      "execution_count": null,
      "outputs": [
        {
          "output_type": "stream",
          "name": "stdout",
          "text": [
            "/content/drive/My Drive/lang_detect\n"
          ]
        }
      ]
    },
    {
      "cell_type": "markdown",
      "metadata": {
        "id": "0sutjCfLtZOC"
      },
      "source": [
        "FastText will generate two files:\n",
        "\n",
        "1)europarl.bin : this is the learned model which contains the optimized parameters for predicting the language label from a given text.\n",
        "\n",
        "2)europarl.vec : a text file that contains the learned vocabulary (around 1.8million) and their embeddings."
      ]
    },
    {
      "cell_type": "code",
      "metadata": {
        "colab": {
          "base_uri": "https://localhost:8080/"
        },
        "id": "clg6hTUxqk6Q",
        "outputId": "173022bd-8f53-492c-f1ef-41c0f979ac2f"
      },
      "source": [
        "!./fastText/fasttext supervised -input data/europarl.pp.train -output model/europarl -lr 0.5 -epoch 25 -wordNgrams 2 -bucket 200000 -dim 50 -loss one-vs-all"
      ],
      "execution_count": null,
      "outputs": [
        {
          "output_type": "stream",
          "name": "stdout",
          "text": [
            "Read 45M words\n",
            "Number of words:  1277035\n",
            "Number of labels: 21\n",
            "Progress: 100.0% words/sec/thread:  246539 lr:  0.000000 avg.loss:  0.055461 ETA:   0h 0m 0s\n"
          ]
        }
      ]
    },
    {
      "cell_type": "markdown",
      "metadata": {
        "id": "jvY6BugctH3Y"
      },
      "source": [
        "Evaluating the model on the Validation Set"
      ]
    },
    {
      "cell_type": "code",
      "metadata": {
        "colab": {
          "base_uri": "https://localhost:8080/"
        },
        "id": "DI8Ik9lS7GnN",
        "outputId": "55ef4f96-2eb4-45e6-a762-0e0e380f3158"
      },
      "source": [
        "!./fastText/fasttext test model/europarl.bin data/europarl.pp.eval"
      ],
      "execution_count": null,
      "outputs": [
        {
          "output_type": "stream",
          "name": "stdout",
          "text": [
            "N\t208077\n",
            "P@1\t0.99\n",
            "R@1\t0.99\n"
          ]
        }
      ]
    },
    {
      "cell_type": "markdown",
      "metadata": {
        "id": "Eickfaek-JAw"
      },
      "source": [
        "Using FastText, I obtain the following results on the Validation set :\n",
        "\n",
        "Precision : 99%\n",
        "\n",
        "Recall : 99%\n",
        "\n",
        "F1 Score  : 99%"
      ]
    },
    {
      "cell_type": "code",
      "metadata": {
        "id": "6QgV_wbUsrfa"
      },
      "source": [
        "!./fastText/fasttext predict model/europarl.bin  data/europarl.pp.eval > prediction/europarl.pp.eval.predict"
      ],
      "execution_count": null,
      "outputs": []
    },
    {
      "cell_type": "markdown",
      "metadata": {
        "id": "jHyUYScL_Aja"
      },
      "source": [
        "Evaluating the model on the Test Set"
      ]
    },
    {
      "cell_type": "code",
      "metadata": {
        "id": "GBzfDlcs_Hpi"
      },
      "source": [
        "# Loading the test dataset\n",
        "test = pd.read_csv('data/europarl.test', sep='\\t', names=['lang', 'text'])\n",
        "\n",
        "# Normalizing the text in the test dataset so it conform with `fastText` format\n",
        "test['normalized'] = test.apply(lambda row: normalize_text(row), axis=1)\n",
        "\n",
        "# Finally lets shuffle the examples and save the final test dataset\n",
        "test = test.reindex(np.random.permutation(test.index)).reset_index(drop=True)\n",
        "np.savetxt('data/europarl_normalized.test', test['normalized'].values, fmt='%s')\n"
      ],
      "execution_count": null,
      "outputs": []
    },
    {
      "cell_type": "code",
      "metadata": {
        "id": "7GcMD2soAAlJ"
      },
      "source": [
        "# Preprocess the normalized test set using FastText\n",
        "!cat data/europarl_normalized.test | sed -e \"s/\\([.\\!?,'/()]\\)/ \\1 /g\" | tr \"[:upper:]\" \"[:lower:]\" > data/europarl_normalized.pp.test\n"
      ],
      "execution_count": null,
      "outputs": []
    },
    {
      "cell_type": "code",
      "metadata": {
        "colab": {
          "base_uri": "https://localhost:8080/"
        },
        "id": "ZbMwADfgANdV",
        "outputId": "d89418b4-1e26-4d9e-e4af-0a86ed4f91bc"
      },
      "source": [
        "!./fastText/fasttext test model/europarl.bin data/europarl_normalized.pp.test\n",
        "!./fastText/fasttext predict model/europarl.bin  data/europarl_normalized.pp.test > prediction/europarl_normalized.pp.test.predict"
      ],
      "execution_count": null,
      "outputs": [
        {
          "output_type": "stream",
          "name": "stdout",
          "text": [
            "N\t20828\n",
            "P@1\t0.993\n",
            "R@1\t0.993\n"
          ]
        }
      ]
    },
    {
      "cell_type": "markdown",
      "metadata": {
        "id": "C5k5xGtOBB35"
      },
      "source": [
        "Using FastText, I obtain the following results on the Test set :\n",
        "\n",
        "Precision : 99.3%\n",
        "\n",
        "Recall : 99.3%\n",
        "\n",
        "F1 Score : 99.3%"
      ]
    },
    {
      "cell_type": "markdown",
      "metadata": {
        "id": "Tjt-NBxgBelG"
      },
      "source": [
        "**Using the model for Further Prediction**"
      ]
    },
    {
      "cell_type": "code",
      "metadata": {
        "id": "PpldpUpUHfnL"
      },
      "source": [
        "!pip install fasttext"
      ],
      "execution_count": null,
      "outputs": []
    },
    {
      "cell_type": "code",
      "metadata": {
        "colab": {
          "base_uri": "https://localhost:8080/"
        },
        "id": "VbkXZXsSBlSq",
        "outputId": "63028e2f-e5f3-4ff1-e5fb-736da48ae803"
      },
      "source": [
        "import fasttext  as ft\n",
        "model = ft.load_model('/content/drive/MyDrive/lang_detect/model/europarl.bin')\n",
        "text = [\n",
        "          \"Ah, bueno, me alegro de que me preguntes eso\",       # Spanish\n",
        "          \"Have you gone crazy? Are you a witch or not?\",       # English\n",
        "          \"Quem vê cara não vê coração.\",                       # Portugese\n",
        "          \"Опознай Родината, за да я обикнеш!\",                 # Bulgarian\n",
        "          \"Vær den forandring, som du ønsker at se i verden.\"   # Danish\n",
        "]\n",
        "model.predict(text)"
      ],
      "execution_count": null,
      "outputs": [
        {
          "output_type": "stream",
          "name": "stderr",
          "text": [
            "Warning : `load_model` does not return WordVectorModel or SupervisedModel any more, but a `FastText` object which is very similar.\n"
          ]
        },
        {
          "output_type": "execute_result",
          "data": {
            "text/plain": [
              "([['__label__es'],\n",
              "  ['__label__en'],\n",
              "  ['__label__pt'],\n",
              "  ['__label__bg'],\n",
              "  ['__label__da']],\n",
              " [array([0.997295], dtype=float32),\n",
              "  array([0.9981424], dtype=float32),\n",
              "  array([1.00001], dtype=float32),\n",
              "  array([1.00001], dtype=float32),\n",
              "  array([0.743178], dtype=float32)])"
            ]
          },
          "metadata": {},
          "execution_count": 104
        }
      ]
    }
  ]
}